{
    "metadata": {
        "kernelspec": {
            "name": "SQL",
            "display_name": "SQL",
            "language": "sql"
        },
        "language_info": {
            "name": "sql",
            "version": ""
        },
        "application/vnd.databricks.v1+notebook": {
            "dashboards": [],
            "language": "python",
            "notebookName": "Anomaly Detection NEWLIBS (2)",
            "notebookOrigID": 1395029115898365,
            "widgets": {}
        },
        "extensions": {
            "azuredatastudio": {
                "version": 1,
                "views": []
            }
        }
    },
    "nbformat_minor": 2,
    "nbformat": 4,
    "cells": [
        {
            "cell_type": "markdown",
            "source": [
                "#Anomaly Detection model for Predictive Maintenance"
            ],
            "metadata": {
                "application/vnd.databricks.v1+cell": {
                    "inputWidgets": {},
                    "nuid": "d294fa8c-4334-497f-820c-b9f1c203de11",
                    "showTitle": false,
                    "title": ""
                },
                "extensions": {
                    "azuredatastudio": {
                        "views": []
                    }
                },
                "azdata_cell_guid": "7cd8c963-1201-4175-aabc-e112c51ae96f"
            }
        },
        {
            "cell_type": "code",
            "source": [
                "%pip install azureml-sdk\n",
                "%pip install keras\n",
                "%pip install tensorflow==2.2.1\n",
                "%pip install statsmodels\n",
                "%pip install joblib\n",
                "%pip install seaborn\n",
                "%pip install h5py==2.10.0\n",
                "%pip install cryptography==3.3.1"
            ],
            "metadata": {
                "application/vnd.databricks.v1+cell": {
                    "inputWidgets": {},
                    "nuid": "32dcf747-cbf9-4278-bc06-591ff71ed712",
                    "showTitle": false,
                    "title": ""
                },
                "extensions": {
                    "azuredatastudio": {
                        "views": []
                    }
                },
                "azdata_cell_guid": "4972b447-25b6-4e16-9992-5196bbde71d6"
            },
            "outputs": [
                {
                    "output_type": "display_data",
                    "data": {
                        "text/html": "<style scoped>\n  .ansiout {\n    display: block;\n    unicode-bidi: embed;\n    white-space: pre-wrap;\n    word-wrap: break-word;\n    word-break: break-all;\n    font-family: \"Source Code Pro\", \"Menlo\", monospace;;\n    font-size: 13px;\n    color: #555;\n    margin-left: 4px;\n    line-height: 19px;\n  }\n</style>"
                    },
                    "metadata": {
                        "application/vnd.databricks.v1+output": {
                            "arguments": {},
                            "data": "",
                            "errorSummary": "",
                            "type": "ipynbError"
                        }
                    }
                }
            ],
            "execution_count": null
        },
        {
            "cell_type": "markdown",
            "source": [
                "Import the necessary libraries/namespaces."
            ],
            "metadata": {
                "application/vnd.databricks.v1+cell": {
                    "inputWidgets": {},
                    "nuid": "acdc3f8c-0670-48b0-ad6f-982cf113bea8",
                    "showTitle": false,
                    "title": ""
                },
                "extensions": {
                    "azuredatastudio": {
                        "views": []
                    }
                },
                "azdata_cell_guid": "68ba5194-ad50-422d-8821-c1f2c99eb94d"
            }
        },
        {
            "cell_type": "code",
            "source": [
                "import requests\n",
                "import os\n",
                "import uuid\n",
                "import pandas as pd\n",
                "import numpy as np\n",
                "from sklearn import preprocessing\n",
                "from sklearn.manifold import TSNE\n",
                "from sklearn.decomposition import PCA\n",
                "import seaborn as sns\n",
                "sns.set(color_codes=True)\n",
                "import matplotlib.pyplot as plt\n",
                "import joblib\n",
                "import h5py\n",
                "\n",
                "from numpy.random import seed\n",
                "import tensorflow as tf\n",
                "\n",
                "from tensorflow.keras.layers import Input, Dropout, Dense\n",
                "from tensorflow.keras.models import Model, Sequential, load_model\n",
                "from tensorflow.keras import regularizers\n",
                "from tensorflow.keras.models import model_from_json\n",
                "\n",
                "import azureml\n",
                "from azureml.core import Run\n",
                "from azureml.core import Workspace\n",
                "from azureml.core.model import Model as AmlModel\n",
                "from azureml.core.run import Run\n",
                "from azureml.core.experiment import Experiment"
            ],
            "metadata": {
                "application/vnd.databricks.v1+cell": {
                    "inputWidgets": {},
                    "nuid": "f7621e46-70bc-4fd8-a9f4-8627798f8973",
                    "showTitle": false,
                    "title": ""
                },
                "extensions": {
                    "azuredatastudio": {
                        "views": []
                    }
                },
                "azdata_cell_guid": "fc1378ae-b5a9-416c-9a03-1aa6a8a13092"
            },
            "outputs": [
                {
                    "output_type": "display_data",
                    "data": {
                        "text/html": "<style scoped>\n  .ansiout {\n    display: block;\n    unicode-bidi: embed;\n    white-space: pre-wrap;\n    word-wrap: break-word;\n    word-break: break-all;\n    font-family: \"Source Code Pro\", \"Menlo\", monospace;;\n    font-size: 13px;\n    color: #555;\n    margin-left: 4px;\n    line-height: 19px;\n  }\n</style>"
                    },
                    "metadata": {
                        "application/vnd.databricks.v1+output": {
                            "arguments": {},
                            "data": "",
                            "errorSummary": "",
                            "type": "ipynbError"
                        }
                    }
                }
            ],
            "execution_count": null
        },
        {
            "cell_type": "markdown",
            "source": [
                "Read the raw data that will be used to showcase the anomaly detection models. The following data sets are available:\n",
                "- Normal: contains sensor readings that correspond to operation under normal conditions\n",
                "- Gradual failure: contains sensor readings that correspond to an initial period of normal operation followed by a period of gradual deterioration and then by one of failure\n",
                "- Immediate failure: contains sensor readings that correspond to an initial period of normal operation followed by a sudden transition to failure"
            ],
            "metadata": {
                "application/vnd.databricks.v1+cell": {
                    "inputWidgets": {},
                    "nuid": "49eefad2-cad1-47d7-a572-eb9eeae2c8da",
                    "showTitle": false,
                    "title": ""
                },
                "extensions": {
                    "azuredatastudio": {
                        "views": []
                    }
                },
                "azdata_cell_guid": "55a0da8c-04bc-41b8-9b85-554231f49cd7"
            }
        },
        {
            "cell_type": "code",
            "source": [
                "pdNormal = pd.read_csv('https://databricksdemostore.blob.core.windows.net/data/mcw-predictive-maintenance-for-remote-field-devices/TelemetryNormal.csv')\n",
                "pdGradualFailure = pd.read_csv('https://databricksdemostore.blob.core.windows.net/data/mcw-predictive-maintenance-for-remote-field-devices/TelemetryWithGradualFailures.csv')\n",
                "pdImmediateFailure = pd.read_csv('https://databricksdemostore.blob.core.windows.net/data/mcw-predictive-maintenance-for-remote-field-devices/TelemetryWithImmediateFailures.csv')"
            ],
            "metadata": {
                "application/vnd.databricks.v1+cell": {
                    "inputWidgets": {},
                    "nuid": "1ba14f16-9226-4107-a278-d7637bd64b70",
                    "showTitle": false,
                    "title": ""
                },
                "extensions": {
                    "azuredatastudio": {
                        "views": []
                    }
                },
                "azdata_cell_guid": "3d5ba942-893f-4c43-ad90-39fafb1ae573"
            },
            "outputs": [
                {
                    "output_type": "display_data",
                    "data": {
                        "text/html": "<style scoped>\n  .ansiout {\n    display: block;\n    unicode-bidi: embed;\n    white-space: pre-wrap;\n    word-wrap: break-word;\n    word-break: break-all;\n    font-family: \"Source Code Pro\", \"Menlo\", monospace;;\n    font-size: 13px;\n    color: #555;\n    margin-left: 4px;\n    line-height: 19px;\n  }\n</style>"
                    },
                    "metadata": {
                        "application/vnd.databricks.v1+output": {
                            "arguments": {},
                            "data": "",
                            "errorSummary": "",
                            "type": "ipynbError"
                        }
                    }
                }
            ],
            "execution_count": null
        },
        {
            "cell_type": "markdown",
            "source": [
                "Let's look at the timeseries for the five sensors when they operate under normal conditions."
            ],
            "metadata": {
                "application/vnd.databricks.v1+cell": {
                    "inputWidgets": {},
                    "nuid": "8c539c70-2889-49df-a046-246bc719e7c7",
                    "showTitle": false,
                    "title": ""
                },
                "extensions": {
                    "azuredatastudio": {
                        "views": []
                    }
                },
                "azdata_cell_guid": "c00f0153-b11c-4984-afc3-f10f5613cc65"
            }
        },
        {
            "cell_type": "code",
            "source": [
                "fig, ax = plt.subplots(3,2, figsize=(30,10))\n",
                "\n",
                "ax[0][0].set_title('MotorPowerkW')\n",
                "ax[0][1].set_title('MotorSpeed')\n",
                "ax[1][0].set_title('PumpRate')\n",
                "ax[1][1].set_title('TimePumpOn')\n",
                "ax[2][0].set_title('CasingFriction')\n",
                "\n",
                "ax[0][0].plot(pdNormal['MotorPowerkW'])\n",
                "ax[0][1].plot(pdNormal['MotorSpeed'])\n",
                "ax[1][0].plot(pdNormal['PumpRate'])\n",
                "ax[1][1].plot(pdNormal['TimePumpOn'])\n",
                "ax[2][0].plot(pdNormal['CasingFriction'])\n",
                "fig.suptitle('Sensor data for operations under normal conditions', fontsize=16)\n",
                "display(fig)\n",
                "plt.close()"
            ],
            "metadata": {
                "application/vnd.databricks.v1+cell": {
                    "inputWidgets": {},
                    "nuid": "209864a2-80cf-4235-8edf-c9601db60673",
                    "showTitle": false,
                    "title": ""
                },
                "extensions": {
                    "azuredatastudio": {
                        "views": []
                    }
                },
                "azdata_cell_guid": "d61e0dba-6d83-4b32-a375-0b943e85b213"
            },
            "outputs": [
                {
                    "output_type": "display_data",
                    "data": {
                        "text/html": "<style scoped>\n  .ansiout {\n    display: block;\n    unicode-bidi: embed;\n    white-space: pre-wrap;\n    word-wrap: break-word;\n    word-break: break-all;\n    font-family: \"Source Code Pro\", \"Menlo\", monospace;;\n    font-size: 13px;\n    color: #555;\n    margin-left: 4px;\n    line-height: 19px;\n  }\n</style>"
                    },
                    "metadata": {
                        "application/vnd.databricks.v1+output": {
                            "arguments": {},
                            "data": "",
                            "errorSummary": "",
                            "type": "ipynbError"
                        }
                    }
                }
            ],
            "execution_count": null
        },
        {
            "cell_type": "markdown",
            "source": [
                "Let's look at the timeseries for the five sensors when they operate initially under normal conditions and then the conditions start to gradually deteriorate until they reach a failure state."
            ],
            "metadata": {
                "application/vnd.databricks.v1+cell": {
                    "inputWidgets": {},
                    "nuid": "967f8eeb-0aa5-449e-92c1-f560cc6e01ec",
                    "showTitle": false,
                    "title": ""
                },
                "extensions": {
                    "azuredatastudio": {
                        "views": []
                    }
                },
                "azdata_cell_guid": "9d17df6b-0f28-44c5-b425-67ea5fe2a41f"
            }
        },
        {
            "cell_type": "code",
            "source": [
                "fig, ax = plt.subplots(3,2, figsize=(30,10))\n",
                "\n",
                "ax[0][0].set_title('MotorPowerkW')\n",
                "ax[0][1].set_title('MotorSpeed')\n",
                "ax[1][0].set_title('PumpRate')\n",
                "ax[1][1].set_title('TimePumpOn')\n",
                "ax[2][0].set_title('CasingFriction')\n",
                "\n",
                "ax[0][0].plot(pdGradualFailure['MotorPowerkW'])\n",
                "ax[0][1].plot(pdGradualFailure['MotorSpeed'])\n",
                "ax[1][0].plot(pdGradualFailure['PumpRate'])\n",
                "ax[1][1].plot(pdGradualFailure['TimePumpOn'])\n",
                "ax[2][0].plot(pdGradualFailure['CasingFriction'])\n",
                "fig.suptitle('Sensor data for operations when gradual failure occurs', fontsize=16)\n",
                "display(fig)\n",
                "plt.close()"
            ],
            "metadata": {
                "application/vnd.databricks.v1+cell": {
                    "inputWidgets": {},
                    "nuid": "fc39e677-ae34-4924-b5f5-4b3fc0302d33",
                    "showTitle": false,
                    "title": ""
                },
                "extensions": {
                    "azuredatastudio": {
                        "views": []
                    }
                },
                "azdata_cell_guid": "605b5050-099b-4586-89c6-21762bbbf264"
            },
            "outputs": [
                {
                    "output_type": "display_data",
                    "data": {
                        "text/html": "<style scoped>\n  .ansiout {\n    display: block;\n    unicode-bidi: embed;\n    white-space: pre-wrap;\n    word-wrap: break-word;\n    word-break: break-all;\n    font-family: \"Source Code Pro\", \"Menlo\", monospace;;\n    font-size: 13px;\n    color: #555;\n    margin-left: 4px;\n    line-height: 19px;\n  }\n</style>"
                    },
                    "metadata": {
                        "application/vnd.databricks.v1+output": {
                            "arguments": {},
                            "data": "",
                            "errorSummary": "",
                            "type": "ipynbError"
                        }
                    }
                }
            ],
            "execution_count": null
        },
        {
            "cell_type": "markdown",
            "source": [
                "Let's look at the timeseries for the five sensors when they operate initially under normal conditions and then the conditions suddenly deteriorate reaching a state of failure."
            ],
            "metadata": {
                "application/vnd.databricks.v1+cell": {
                    "inputWidgets": {},
                    "nuid": "b2880d8f-0009-4065-a816-d61373fc3339",
                    "showTitle": false,
                    "title": ""
                },
                "extensions": {
                    "azuredatastudio": {
                        "views": []
                    }
                },
                "azdata_cell_guid": "59be2a7d-8287-4d94-b8d6-fe454267629e"
            }
        },
        {
            "cell_type": "code",
            "source": [
                "fig, ax = plt.subplots(3,2, figsize=(30,10))\n",
                "\n",
                "ax[0][0].set_title('MotorPowerkW')\n",
                "ax[0][1].set_title('MotorSpeed')\n",
                "ax[1][0].set_title('PumpRate')\n",
                "ax[1][1].set_title('TimePumpOn')\n",
                "ax[2][0].set_title('CasingFriction')\n",
                "\n",
                "ax[0][0].plot(pdImmediateFailure['MotorPowerkW'])\n",
                "ax[0][1].plot(pdImmediateFailure['MotorSpeed'])\n",
                "ax[1][0].plot(pdImmediateFailure['PumpRate'])\n",
                "ax[1][1].plot(pdImmediateFailure['TimePumpOn'])\n",
                "ax[2][0].plot(pdImmediateFailure['CasingFriction'])\n",
                "fig.suptitle('Sensor data for operations when immediate failure occurs', fontsize=16)\n",
                "display(fig)\n",
                "plt.close()"
            ],
            "metadata": {
                "application/vnd.databricks.v1+cell": {
                    "inputWidgets": {},
                    "nuid": "822b405c-36e5-45d7-8530-c46f620ed2c8",
                    "showTitle": false,
                    "title": ""
                },
                "extensions": {
                    "azuredatastudio": {
                        "views": []
                    }
                },
                "azdata_cell_guid": "59ba3bdf-210d-4a94-bc34-a0898da7f0e3"
            },
            "outputs": [
                {
                    "output_type": "display_data",
                    "data": {
                        "text/html": "<style scoped>\n  .ansiout {\n    display: block;\n    unicode-bidi: embed;\n    white-space: pre-wrap;\n    word-wrap: break-word;\n    word-break: break-all;\n    font-family: \"Source Code Pro\", \"Menlo\", monospace;;\n    font-size: 13px;\n    color: #555;\n    margin-left: 4px;\n    line-height: 19px;\n  }\n</style>"
                    },
                    "metadata": {
                        "application/vnd.databricks.v1+output": {
                            "arguments": {},
                            "data": "",
                            "errorSummary": "",
                            "type": "ipynbError"
                        }
                    }
                }
            ],
            "execution_count": null
        },
        {
            "cell_type": "markdown",
            "source": [
                "We are scaling all three data sets to make sure all values are properly normalized. For this, we are using the MinMax scaler approach."
            ],
            "metadata": {
                "application/vnd.databricks.v1+cell": {
                    "inputWidgets": {},
                    "nuid": "3a0b9d47-89c5-4faa-bf78-d9d55374412a",
                    "showTitle": false,
                    "title": ""
                },
                "extensions": {
                    "azuredatastudio": {
                        "views": []
                    }
                },
                "azdata_cell_guid": "e1b2a354-7d3b-4ff7-ab9f-6ec778bce15a"
            }
        },
        {
            "cell_type": "code",
            "source": [
                "scaler = preprocessing.MinMaxScaler()\n",
                "\n",
                "X_train = pd.DataFrame(scaler.fit_transform(pdNormal),\n",
                "                      columns=pdNormal.columns,\n",
                "                      index=pdNormal.index)\n",
                "joblib.dump(scaler, 'scaler.pkl')\n",
                "X_test1 = pd.DataFrame(scaler.transform(pdGradualFailure),\n",
                "                      columns=pdGradualFailure.columns,\n",
                "                      index=pdGradualFailure.index)\n",
                "X_test2 = pd.DataFrame(scaler.transform(pdImmediateFailure),\n",
                "                      columns=pdImmediateFailure.columns,\n",
                "                      index=pdImmediateFailure.index)"
            ],
            "metadata": {
                "application/vnd.databricks.v1+cell": {
                    "inputWidgets": {},
                    "nuid": "5b2653ef-3445-477e-9c9a-2f7b7754b0f6",
                    "showTitle": false,
                    "title": ""
                },
                "extensions": {
                    "azuredatastudio": {
                        "views": []
                    }
                },
                "azdata_cell_guid": "a5ab4aa6-3ce8-4799-a047-51dabda8cb68"
            },
            "outputs": [
                {
                    "output_type": "display_data",
                    "data": {
                        "text/html": "<style scoped>\n  .ansiout {\n    display: block;\n    unicode-bidi: embed;\n    white-space: pre-wrap;\n    word-wrap: break-word;\n    word-break: break-all;\n    font-family: \"Source Code Pro\", \"Menlo\", monospace;;\n    font-size: 13px;\n    color: #555;\n    margin-left: 4px;\n    line-height: 19px;\n  }\n</style>"
                    },
                    "metadata": {
                        "application/vnd.databricks.v1+output": {
                            "arguments": {},
                            "data": "",
                            "errorSummary": "",
                            "type": "ipynbError"
                        }
                    }
                }
            ],
            "execution_count": null
        },
        {
            "cell_type": "markdown",
            "source": [
                "The approach we use for anomaly detection is based on a deep learning model that is trained to recognize normal operating conditions. \n",
                "We are using a special type of deep learning model called an autoencoder. It basically trains to produce outputs that are as similar as possible to the inputs it gets (hence the name autoencoder). As you will see when we actually train the model, we use the same dataset (X_train - sensors under normal conditions) as both training and test data. \n",
                "\n",
                "Notice the middle layer of the neural network - the one we named 'feature_vector'. When data reaches this layer it is in the for of a 20-dimensional vector. The layer is very important because this is where we 'split' the trained model. Splitting the trained model here and using this layer as an output means that we have a model that is capable of encoding a combination of five sensor readings into a 20-dimensional vector. This piece of the model is called an encoder (for obvious reasons) and we will use it later to better understand conditions that classify as anomalies.\n",
                "\n",
                "Also notice that we are using MSE (Mean Squared Error) as the loss function of the model."
            ],
            "metadata": {
                "application/vnd.databricks.v1+cell": {
                    "inputWidgets": {},
                    "nuid": "b52f43b9-696b-4524-a136-59cf446ef047",
                    "showTitle": false,
                    "title": ""
                },
                "extensions": {
                    "azuredatastudio": {
                        "views": []
                    }
                },
                "azdata_cell_guid": "27d35573-0f1b-4220-b1b1-6e07d337b4cd"
            }
        },
        {
            "cell_type": "code",
            "source": [
                "seed(10)\n",
                "tf.random.set_seed(10)\n",
                "act_func = 'elu'\n",
                "\n",
                "input = Input(shape=(X_train.shape[1],))\n",
                "x = Dense(100,activation=act_func, kernel_initializer='glorot_uniform', kernel_regularizer=regularizers.l2(0.0))(input)\n",
                "x = Dense(50,activation=act_func, kernel_initializer='glorot_uniform')(x)\n",
                "encoder = Dense(20,activation=act_func, kernel_initializer='glorot_uniform', name='feature_vector')(x)\n",
                "x = Dense(50,activation=act_func, kernel_initializer='glorot_uniform')(encoder)\n",
                "x = Dense(100,activation=act_func, kernel_initializer='glorot_uniform')(x)\n",
                "output = Dense(X_train.shape[1],activation=act_func, kernel_initializer='glorot_uniform')(x)\n",
                "\n",
                "model = Model(input, output)\n",
                "model.compile(loss='mse',optimizer='adam')\n",
                "\n",
                "encoder_model = Model(inputs=model.input, outputs=model.get_layer('feature_vector').output)\n",
                "encoder_model.compile(loss='mse',optimizer='adam')"
            ],
            "metadata": {
                "application/vnd.databricks.v1+cell": {
                    "inputWidgets": {},
                    "nuid": "4892c5df-4c33-4bfc-acee-dafd40b87b70",
                    "showTitle": false,
                    "title": ""
                },
                "extensions": {
                    "azuredatastudio": {
                        "views": []
                    }
                },
                "azdata_cell_guid": "1ec97d83-ce3f-4d80-b203-dc7a8d1da936"
            },
            "outputs": [
                {
                    "output_type": "display_data",
                    "data": {
                        "text/html": "<style scoped>\n  .ansiout {\n    display: block;\n    unicode-bidi: embed;\n    white-space: pre-wrap;\n    word-wrap: break-word;\n    word-break: break-all;\n    font-family: \"Source Code Pro\", \"Menlo\", monospace;;\n    font-size: 13px;\n    color: #555;\n    margin-left: 4px;\n    line-height: 19px;\n  }\n</style>"
                    },
                    "metadata": {
                        "application/vnd.databricks.v1+output": {
                            "arguments": {},
                            "data": "",
                            "errorSummary": "",
                            "type": "ipynbError"
                        }
                    }
                }
            ],
            "execution_count": null
        },
        {
            "cell_type": "markdown",
            "source": [
                "Let's train the autoencoder model using the X_train dataset (sensors operating under normal conditions) as both training and test data.\n",
                "\n",
                "For model validation, we are using a 95% / 5% split."
            ],
            "metadata": {
                "application/vnd.databricks.v1+cell": {
                    "inputWidgets": {},
                    "nuid": "4a8efe8f-0485-44bd-9666-4dcac33b5d4d",
                    "showTitle": false,
                    "title": ""
                },
                "extensions": {
                    "azuredatastudio": {
                        "views": []
                    }
                },
                "azdata_cell_guid": "bc7aa8fe-bdd4-4c1c-acc5-31630493df65"
            }
        },
        {
            "cell_type": "code",
            "source": [
                "epochs = 100\n",
                "batch_size = 10\n",
                "\n",
                "history=model.fit(np.array(X_train),np.array(X_train),\n",
                "                  batch_size=batch_size, \n",
                "                  epochs=epochs,\n",
                "                  validation_split=0.05,\n",
                "                  verbose = 1)"
            ],
            "metadata": {
                "application/vnd.databricks.v1+cell": {
                    "inputWidgets": {},
                    "nuid": "d836a07e-c8a0-4edc-bd25-c48229952679",
                    "showTitle": false,
                    "title": ""
                },
                "extensions": {
                    "azuredatastudio": {
                        "views": []
                    }
                },
                "azdata_cell_guid": "a67d66b9-03cf-4552-be98-50bac8bd120d"
            },
            "outputs": [
                {
                    "output_type": "display_data",
                    "data": {
                        "text/html": "<style scoped>\n  .ansiout {\n    display: block;\n    unicode-bidi: embed;\n    white-space: pre-wrap;\n    word-wrap: break-word;\n    word-break: break-all;\n    font-family: \"Source Code Pro\", \"Menlo\", monospace;;\n    font-size: 13px;\n    color: #555;\n    margin-left: 4px;\n    line-height: 19px;\n  }\n</style>"
                    },
                    "metadata": {
                        "application/vnd.databricks.v1+output": {
                            "arguments": {},
                            "data": "",
                            "errorSummary": "",
                            "type": "ipynbError"
                        }
                    }
                }
            ],
            "execution_count": null
        },
        {
            "cell_type": "markdown",
            "source": [
                "Next, let's take a look at how the loss function (MSE) evolved for both training and validation data during the advancing of the epochs."
            ],
            "metadata": {
                "application/vnd.databricks.v1+cell": {
                    "inputWidgets": {},
                    "nuid": "fce9644e-a2a7-49ac-80b6-ecb797fbe613",
                    "showTitle": false,
                    "title": ""
                },
                "extensions": {
                    "azuredatastudio": {
                        "views": []
                    }
                },
                "azdata_cell_guid": "0a57a325-028c-4f8d-aeaf-25c18ff1f518"
            }
        },
        {
            "cell_type": "code",
            "source": [
                "fig, ax = plt.subplots(1,1, figsize=(20,5))\n",
                "\n",
                "ax.set_title('Training/validation loss')\n",
                "\n",
                "plt.plot(history.history['loss'],\n",
                "         'b',\n",
                "         label='Training loss')\n",
                "plt.plot(history.history['val_loss'],\n",
                "         'r',\n",
                "         label='Validation loss')\n",
                "plt.legend(loc='upper right')\n",
                "plt.xlabel('Epochs')\n",
                "plt.ylabel('Loss, [mse]')\n",
                "plt.ylim([0,.002])\n",
                "display(fig)\n",
                "plt.close()"
            ],
            "metadata": {
                "application/vnd.databricks.v1+cell": {
                    "inputWidgets": {},
                    "nuid": "84be0338-fc38-4de7-a530-7fe37560ad59",
                    "showTitle": false,
                    "title": ""
                },
                "extensions": {
                    "azuredatastudio": {
                        "views": []
                    }
                },
                "azdata_cell_guid": "a5e83f34-8335-4faf-848d-cb662d2640fe"
            },
            "outputs": [
                {
                    "output_type": "display_data",
                    "data": {
                        "text/html": "<style scoped>\n  .ansiout {\n    display: block;\n    unicode-bidi: embed;\n    white-space: pre-wrap;\n    word-wrap: break-word;\n    word-break: break-all;\n    font-family: \"Source Code Pro\", \"Menlo\", monospace;;\n    font-size: 13px;\n    color: #555;\n    margin-left: 4px;\n    line-height: 19px;\n  }\n</style>"
                    },
                    "metadata": {
                        "application/vnd.databricks.v1+output": {
                            "arguments": {},
                            "data": "",
                            "errorSummary": "",
                            "type": "ipynbError"
                        }
                    }
                }
            ],
            "execution_count": null
        },
        {
            "cell_type": "markdown",
            "source": [
                "Given the trained model, we are using it to make predictions on the same data it trained and then we calculate the loss in the form of MAE (Mean Average Error) between the predicted values and the actual values.\n",
                "\n",
                "The histogram representation of this result (MAE loss) enables us to understand what is the reasonable value for the value that identifies 'normal conditions'. Looking at the right end of the bell shape, we can safely assume that 0.01 is a good value for the threshold.\n",
                "\n",
                "This result is remarkable! We have found a limit of the loss function that, if exceeded, means we are moving into anomaly territory. We will use this in the next steps to detect anomalies."
            ],
            "metadata": {
                "application/vnd.databricks.v1+cell": {
                    "inputWidgets": {},
                    "nuid": "69d99a46-924c-4f60-bcea-c34ea6f8e38d",
                    "showTitle": false,
                    "title": ""
                },
                "extensions": {
                    "azuredatastudio": {
                        "views": []
                    }
                },
                "azdata_cell_guid": "a3a0300c-0e62-471b-a17e-8217741ebb15"
            }
        },
        {
            "cell_type": "code",
            "source": [
                "X_pred = model.predict(np.array(X_train))\n",
                "X_pred = pd.DataFrame(X_pred, \n",
                "                      columns=X_train.columns)\n",
                "X_pred.index = X_train.index\n",
                "\n",
                "scored = pd.DataFrame(index=X_train.index)\n",
                "scored['Loss_mae'] = np.mean(np.abs(X_pred-X_train), axis = 1)\n",
                "\n",
                "fig, ax = plt.subplots(1,1)\n",
                "sns.distplot(scored['Loss_mae'],\n",
                "             bins = 50, \n",
                "             kde= True,\n",
                "            color = 'blue');\n",
                "plt.xlim([0.0,.02])\n",
                "display(fig)\n",
                "plt.close()"
            ],
            "metadata": {
                "application/vnd.databricks.v1+cell": {
                    "inputWidgets": {},
                    "nuid": "939a0009-e716-43f5-b5e3-68e77e8bc4ec",
                    "showTitle": false,
                    "title": ""
                },
                "extensions": {
                    "azuredatastudio": {
                        "views": []
                    }
                },
                "azdata_cell_guid": "5a0e3407-b6c7-4a52-bdf2-60f815985324"
            },
            "outputs": [
                {
                    "output_type": "display_data",
                    "data": {
                        "text/html": "<style scoped>\n  .ansiout {\n    display: block;\n    unicode-bidi: embed;\n    white-space: pre-wrap;\n    word-wrap: break-word;\n    word-break: break-all;\n    font-family: \"Source Code Pro\", \"Menlo\", monospace;;\n    font-size: 13px;\n    color: #555;\n    margin-left: 4px;\n    line-height: 19px;\n  }\n</style>"
                    },
                    "metadata": {
                        "application/vnd.databricks.v1+output": {
                            "arguments": {},
                            "data": "",
                            "errorSummary": "",
                            "type": "ipynbError"
                        }
                    }
                }
            ],
            "execution_count": null
        },
        {
            "cell_type": "markdown",
            "source": [
                "Save both models (the full autoencoder as well as its half, the encoder) for future use."
            ],
            "metadata": {
                "application/vnd.databricks.v1+cell": {
                    "inputWidgets": {},
                    "nuid": "43d47a89-49a5-4533-97c4-0a6c2be9a7de",
                    "showTitle": false,
                    "title": ""
                },
                "extensions": {
                    "azuredatastudio": {
                        "views": []
                    }
                },
                "azdata_cell_guid": "154ed151-c791-4ae2-8794-caceba3171c4"
            }
        },
        {
            "cell_type": "code",
            "source": [
                "model.save('anomaly_detection_full_model.h5')\n",
                "encoder_model.save('anomaly_detection_encoder_model.h5')"
            ],
            "metadata": {
                "application/vnd.databricks.v1+cell": {
                    "inputWidgets": {},
                    "nuid": "f5096a58-5bcb-43b1-a801-22109aa1fe01",
                    "showTitle": false,
                    "title": ""
                },
                "extensions": {
                    "azuredatastudio": {
                        "views": []
                    }
                },
                "azdata_cell_guid": "889089f2-e484-4cce-9dac-5f69554cfbfa"
            },
            "outputs": [
                {
                    "output_type": "display_data",
                    "data": {
                        "text/html": "<style scoped>\n  .ansiout {\n    display: block;\n    unicode-bidi: embed;\n    white-space: pre-wrap;\n    word-wrap: break-word;\n    word-break: break-all;\n    font-family: \"Source Code Pro\", \"Menlo\", monospace;;\n    font-size: 13px;\n    color: #555;\n    margin-left: 4px;\n    line-height: 19px;\n  }\n</style>"
                    },
                    "metadata": {
                        "application/vnd.databricks.v1+output": {
                            "arguments": {},
                            "data": "",
                            "errorSummary": "",
                            "type": "ipynbError"
                        }
                    }
                }
            ],
            "execution_count": null
        },
        {
            "cell_type": "markdown",
            "source": [
                "For here on, we suppose we have a trained model that we use to monitor and detect anomalies in the functioning of the system.\n",
                "\n",
                "We are now taking the other two data sets (the one containing gradual failure and the one containing immediate failure) and running them through our full model to get the predicted values. We then compare those predicted values with the input values and calculate for each point in the time series the MAE loss. Finally, we mark each point in the time series as an anomaly or not depending on whether MAE exceeds of not the threshold we determined earlier."
            ],
            "metadata": {
                "application/vnd.databricks.v1+cell": {
                    "inputWidgets": {},
                    "nuid": "7a71a33c-eb15-48fe-8b18-cae218ba675e",
                    "showTitle": false,
                    "title": ""
                },
                "extensions": {
                    "azuredatastudio": {
                        "views": []
                    }
                },
                "azdata_cell_guid": "3fa2e705-5b0b-4b71-91ca-7a189c12acd9"
            }
        },
        {
            "cell_type": "code",
            "source": [
                "model = load_model('anomaly_detection_full_model.h5')\n",
                "\n",
                "# Batch scoring for gradual failure\n",
                "X_pred1 = model.predict(np.array(X_test1))\n",
                "X_pred1 = pd.DataFrame(X_pred1, \n",
                "                      columns=X_test1.columns)\n",
                "X_pred1.index = X_test1.index\n",
                "\n",
                "scored1 = pd.DataFrame(index=X_test1.index)\n",
                "scored1['Loss_mae'] = np.mean(np.abs(X_pred1-X_test1), axis = 1)\n",
                "scored1['Threshold'] = 0.01\n",
                "scored1['Anomaly'] = scored1['Loss_mae'] > scored1['Threshold']\n",
                "\n",
                "# Batch scoring for immediate failure\n",
                "X_pred2 = model.predict(np.array(X_test2))\n",
                "X_pred2 = pd.DataFrame(X_pred2, \n",
                "                      columns=X_test2.columns)\n",
                "X_pred2.index = X_test2.index\n",
                "\n",
                "scored2 = pd.DataFrame(index=X_test2.index)\n",
                "scored2['Loss_mae'] = np.mean(np.abs(X_pred2-X_test2), axis = 1)\n",
                "scored2['Threshold'] = 0.01\n",
                "scored2['Anomaly'] = scored2['Loss_mae'] > scored2['Threshold']"
            ],
            "metadata": {
                "application/vnd.databricks.v1+cell": {
                    "inputWidgets": {},
                    "nuid": "6f20bef7-ae7f-494b-9180-e344b649ef72",
                    "showTitle": false,
                    "title": ""
                },
                "extensions": {
                    "azuredatastudio": {
                        "views": []
                    }
                },
                "azdata_cell_guid": "46428a6e-7676-4cea-b232-745493301b05"
            },
            "outputs": [
                {
                    "output_type": "display_data",
                    "data": {
                        "text/html": "<style scoped>\n  .ansiout {\n    display: block;\n    unicode-bidi: embed;\n    white-space: pre-wrap;\n    word-wrap: break-word;\n    word-break: break-all;\n    font-family: \"Source Code Pro\", \"Menlo\", monospace;;\n    font-size: 13px;\n    color: #555;\n    margin-left: 4px;\n    line-height: 19px;\n  }\n</style>"
                    },
                    "metadata": {
                        "application/vnd.databricks.v1+output": {
                            "arguments": {},
                            "data": "",
                            "errorSummary": "",
                            "type": "ipynbError"
                        }
                    }
                }
            ],
            "execution_count": null
        },
        {
            "cell_type": "markdown",
            "source": [
                "We are finally ready to plot the results. The blue lines are the actual values of the MAE loss function and the orange line is the threshold we have determined earlier.\n",
                "\n",
                "Notice how in the case of the gradual failure data set we are detecting the abnormal state quite early, before it reaches the final failed state. In real life, this is extremely important as it allows an automatic shutdown of the system before major failure occurs."
            ],
            "metadata": {
                "application/vnd.databricks.v1+cell": {
                    "inputWidgets": {},
                    "nuid": "90490aa7-6e0a-4041-8604-776e20cd6da2",
                    "showTitle": false,
                    "title": ""
                },
                "extensions": {
                    "azuredatastudio": {
                        "views": []
                    }
                },
                "azdata_cell_guid": "cf4c7493-95c7-42ae-aba9-4d110a46f428"
            }
        },
        {
            "cell_type": "code",
            "source": [
                "fig, ax = plt.subplots(1,2, figsize=(30,5))\n",
                "\n",
                "ax[0].set_title('Failure chart for gradual failure')\n",
                "ax[0].plot(scored1[['Loss_mae', 'Threshold']])\n",
                "\n",
                "ax[1].set_title('Failure chart for immediate failure')\n",
                "ax[1].plot(scored2[['Loss_mae', 'Threshold']])\n",
                "\n",
                "ax[0].set_ylabel('Loss (MAE)')\n",
                "ax[1].set_ylabel('Loss (MAE)')\n",
                "\n",
                "ax[0].legend(('Pump Health Score', 'Failure Threshold'), loc='upper left')\n",
                "ax[1].legend(('Pump Health Score', 'Failure Threshold'), loc='upper left')\n",
                "\n",
                "ax[0].set_yscale('log')\n",
                "ax[1].set_yscale('log')\n",
                "\n",
                "display(fig)\n",
                "plt.close()"
            ],
            "metadata": {
                "application/vnd.databricks.v1+cell": {
                    "inputWidgets": {},
                    "nuid": "907dd154-574c-4e18-b5f6-f09ea0cc7d19",
                    "showTitle": false,
                    "title": ""
                },
                "extensions": {
                    "azuredatastudio": {
                        "views": []
                    }
                },
                "azdata_cell_guid": "0f52137b-d266-49c2-8e61-549ad1191e83"
            },
            "outputs": [
                {
                    "output_type": "display_data",
                    "data": {
                        "text/html": "<style scoped>\n  .ansiout {\n    display: block;\n    unicode-bidi: embed;\n    white-space: pre-wrap;\n    word-wrap: break-word;\n    word-break: break-all;\n    font-family: \"Source Code Pro\", \"Menlo\", monospace;;\n    font-size: 13px;\n    color: #555;\n    margin-left: 4px;\n    line-height: 19px;\n  }\n</style>"
                    },
                    "metadata": {
                        "application/vnd.databricks.v1+output": {
                            "arguments": {},
                            "data": "",
                            "errorSummary": "",
                            "type": "ipynbError"
                        }
                    }
                }
            ],
            "execution_count": null
        },
        {
            "cell_type": "markdown",
            "source": [
                "Now that we have a working model for detecting anomalies in the working of the system, let's try to gain a better understanding of what's happening.\n",
                "\n",
                "To do this we will use the encoder portion of our model (the one that 'encodes' each individual state of the 5 sensors into a 20-dimensional vector) and a technique called PCA (Principal Component Analysis).\n",
                "\n",
                "First, we will encode both data sets with anomalies (gradual failure and immediate failure)."
            ],
            "metadata": {
                "application/vnd.databricks.v1+cell": {
                    "inputWidgets": {},
                    "nuid": "b0e1d470-f80f-41dc-93c3-7c92b2182a3f",
                    "showTitle": false,
                    "title": ""
                },
                "extensions": {
                    "azuredatastudio": {
                        "views": []
                    }
                },
                "azdata_cell_guid": "3eed4fdc-ffc7-450f-9b5b-d046d9bbf959"
            }
        },
        {
            "cell_type": "code",
            "source": [
                "model = load_model('anomaly_detection_encoder_model.h5')\n",
                "X_enc1 = encoder_model.predict(np.array(X_test1))\n",
                "X_enc2 = encoder_model.predict(np.array(X_test2))"
            ],
            "metadata": {
                "application/vnd.databricks.v1+cell": {
                    "inputWidgets": {},
                    "nuid": "8a335ea5-0197-44e2-be1a-98d5fbff709e",
                    "showTitle": false,
                    "title": ""
                },
                "extensions": {
                    "azuredatastudio": {
                        "views": []
                    }
                },
                "azdata_cell_guid": "ff2667e8-3826-47ea-8c40-e6ff7d5a3606"
            },
            "outputs": [
                {
                    "output_type": "display_data",
                    "data": {
                        "text/html": "<style scoped>\n  .ansiout {\n    display: block;\n    unicode-bidi: embed;\n    white-space: pre-wrap;\n    word-wrap: break-word;\n    word-break: break-all;\n    font-family: \"Source Code Pro\", \"Menlo\", monospace;;\n    font-size: 13px;\n    color: #555;\n    margin-left: 4px;\n    line-height: 19px;\n  }\n</style>"
                    },
                    "metadata": {
                        "application/vnd.databricks.v1+output": {
                            "arguments": {},
                            "data": "",
                            "errorSummary": "",
                            "type": "ipynbError"
                        }
                    }
                }
            ],
            "execution_count": null
        },
        {
            "cell_type": "markdown",
            "source": [
                "We apply several PCA models (with 2, 5, and 10 components respectively) to the state vectors that we obtained in the previous step.\n",
                "\n",
                "For the gradual failure dataset, we find out that 2 out of the 20 components of the embedding vectors explain 99.48% of the entire variation found in the data.\n",
                "For the immediate failure dataset, we find out that 2 out of the 20 components of the embedding vectors explain 99.81% of the entire variation found in the data.\n",
                "\n",
                "As we move to 5 and 10 components for the PCA, we get some marginal increase in those percentages."
            ],
            "metadata": {
                "application/vnd.databricks.v1+cell": {
                    "inputWidgets": {},
                    "nuid": "089edf15-82be-4ea4-b502-3eb52703094c",
                    "showTitle": false,
                    "title": ""
                },
                "extensions": {
                    "azuredatastudio": {
                        "views": []
                    }
                },
                "azdata_cell_guid": "9bbf153f-49ad-482e-a9c5-ac74b002b1ad"
            }
        },
        {
            "cell_type": "code",
            "source": [
                "pca_components = [2, 5, 10]\n",
                "gradual_failure_pca = []\n",
                "immediate_failure_pca = []\n",
                "\n",
                "def pca_analysis(input, results, failure_type):\n",
                "  for comp in pca_components:\n",
                "    pca = PCA(n_components = comp)\n",
                "    pca_result = pca.fit_transform(input)\n",
                "    print('{} failure - Cumulative explained variation for {} principal components: {}'.format(failure_type, comp, np.sum(pca.explained_variance_ratio_)))\n",
                "    results.append(pca_result)\n",
                "    \n",
                "pca_analysis(X_enc1, gradual_failure_pca, 'Gradual')\n",
                "pca_analysis(X_enc2, immediate_failure_pca, 'Immediate')"
            ],
            "metadata": {
                "application/vnd.databricks.v1+cell": {
                    "inputWidgets": {},
                    "nuid": "f2298b9f-8bd1-4406-8b7a-08b93720837e",
                    "showTitle": false,
                    "title": ""
                },
                "extensions": {
                    "azuredatastudio": {
                        "views": []
                    }
                },
                "azdata_cell_guid": "92f23876-335a-41ee-8944-0ca4bb81c6ff"
            },
            "outputs": [
                {
                    "output_type": "display_data",
                    "data": {
                        "text/html": "<style scoped>\n  .ansiout {\n    display: block;\n    unicode-bidi: embed;\n    white-space: pre-wrap;\n    word-wrap: break-word;\n    word-break: break-all;\n    font-family: \"Source Code Pro\", \"Menlo\", monospace;;\n    font-size: 13px;\n    color: #555;\n    margin-left: 4px;\n    line-height: 19px;\n  }\n</style>"
                    },
                    "metadata": {
                        "application/vnd.databricks.v1+output": {
                            "arguments": {},
                            "data": "",
                            "errorSummary": "",
                            "type": "ipynbError"
                        }
                    }
                }
            ],
            "execution_count": null
        },
        {
            "cell_type": "markdown",
            "source": [
                "To get a visual representation of the 2 components mentioned above, we correlate those 2 components from the embedding vectors with the anomaly flag we've already determined.\n",
                "\n",
                "We apply some transformations to improve the readability of the gradual failure data set ."
            ],
            "metadata": {
                "application/vnd.databricks.v1+cell": {
                    "inputWidgets": {},
                    "nuid": "30219f62-fd37-425e-b54e-f98b57565dc6",
                    "showTitle": false,
                    "title": ""
                },
                "extensions": {
                    "azuredatastudio": {
                        "views": []
                    }
                },
                "azdata_cell_guid": "68de185f-9da1-480d-9b25-9c9664f2cc5a"
            },
            "attachments": {}
        },
        {
            "cell_type": "code",
            "source": [
                "X_embedded1 = pd.DataFrame(gradual_failure_pca[0], columns=['X','Y'])\n",
                "X_embedded1['State'] = np.where(scored1['Anomaly'], 'Failure', 'Normal')\n",
                "X_embedded1['X_Norm'] = np.log(X_embedded1['X'] * -1 + 20)\n",
                "X_embedded1['Y_Norm'] = np.log(X_embedded1['Y'] + 2)\n",
                "\n",
                "X_embedded2 = pd.DataFrame(immediate_failure_pca[0], columns=['X','Y'])\n",
                "X_embedded2['State'] = np.where(scored2['Anomaly'], 'Failure', 'Normal')"
            ],
            "metadata": {
                "application/vnd.databricks.v1+cell": {
                    "inputWidgets": {},
                    "nuid": "83f69b2c-1613-44c1-bef5-b7f79a73520e",
                    "showTitle": false,
                    "title": ""
                },
                "extensions": {
                    "azuredatastudio": {
                        "views": []
                    }
                },
                "azdata_cell_guid": "8695d5fe-bfc8-4f10-bfce-7713afc0dfcf"
            },
            "outputs": [
                {
                    "output_type": "display_data",
                    "data": {
                        "text/html": "<style scoped>\n  .ansiout {\n    display: block;\n    unicode-bidi: embed;\n    white-space: pre-wrap;\n    word-wrap: break-word;\n    word-break: break-all;\n    font-family: \"Source Code Pro\", \"Menlo\", monospace;;\n    font-size: 13px;\n    color: #555;\n    margin-left: 4px;\n    line-height: 19px;\n  }\n</style>"
                    },
                    "metadata": {
                        "application/vnd.databricks.v1+output": {
                            "arguments": {},
                            "data": "",
                            "errorSummary": "",
                            "type": "ipynbError"
                        }
                    }
                }
            ],
            "execution_count": null
        },
        {
            "cell_type": "markdown",
            "source": [
                "Finally, we plot the results.\n",
                "\n",
                "In each of the two plots, each point represents one individual state of the system (corresponding to one point in time in the time series). The blue points indicate a normal state, and the orange ones indicate a state of anomaly (failure).\n",
                "\n",
                "It is quite remarkable how different the two charts are. In the one corresponding to the gradually failing system, most blue points are concentrated into the leftmost part (normal operating conditions). Then we see an arch of orange points that define the gradual failure of the system. The chart corresponding to the immediately failing system, all points are concentrated in two bands - one for normal conditions and one for abnormal conditions. The sudden transition of the system from a normal condition to an abnormal one is very clearly visible."
            ],
            "metadata": {
                "application/vnd.databricks.v1+cell": {
                    "inputWidgets": {},
                    "nuid": "02ad66a4-5508-4df4-abd2-8aebcca4c64f",
                    "showTitle": false,
                    "title": ""
                },
                "extensions": {
                    "azuredatastudio": {
                        "views": []
                    }
                },
                "azdata_cell_guid": "3074648d-0be1-4e9f-968b-7f784c54c7c7"
            }
        },
        {
            "cell_type": "code",
            "source": [
                "fig, ax = plt.subplots(1, 2, figsize=(30,5))\n",
                "\n",
                "ax[0].set_title('Gradual failure readings')\n",
                "ax[1].set_title('Immediate failure readings')\n",
                "\n",
                "sns.scatterplot(x='X_Norm', y='Y_Norm', hue='State', data=X_embedded1, ax=ax[0])\n",
                "sns.scatterplot(x='X', y='Y', hue='State', data=X_embedded2, ax=ax[1])\n",
                "\n",
                "display(fig)\n",
                "plt.close()"
            ],
            "metadata": {
                "application/vnd.databricks.v1+cell": {
                    "inputWidgets": {},
                    "nuid": "3445839f-614c-4fbf-86f1-a4e7a5715985",
                    "showTitle": false,
                    "title": ""
                },
                "extensions": {
                    "azuredatastudio": {
                        "views": []
                    }
                },
                "azdata_cell_guid": "24441a67-b1c3-45f7-96eb-2bc1176e7920"
            },
            "outputs": [
                {
                    "output_type": "display_data",
                    "data": {
                        "text/html": "<style scoped>\n  .ansiout {\n    display: block;\n    unicode-bidi: embed;\n    white-space: pre-wrap;\n    word-wrap: break-word;\n    word-break: break-all;\n    font-family: \"Source Code Pro\", \"Menlo\", monospace;;\n    font-size: 13px;\n    color: #555;\n    margin-left: 4px;\n    line-height: 19px;\n  }\n</style>"
                    },
                    "metadata": {
                        "application/vnd.databricks.v1+output": {
                            "arguments": {},
                            "data": "",
                            "errorSummary": "",
                            "type": "ipynbError"
                        }
                    }
                }
            ],
            "execution_count": null
        },
        {
            "cell_type": "markdown",
            "source": [
                "## Save the model to disk"
            ],
            "metadata": {
                "application/vnd.databricks.v1+cell": {
                    "inputWidgets": {},
                    "nuid": "eefb562e-a479-4bee-8ebe-2ee38fe11b0e",
                    "showTitle": false,
                    "title": ""
                },
                "extensions": {
                    "azuredatastudio": {
                        "views": []
                    }
                },
                "azdata_cell_guid": "89fd212f-0d4e-489b-9ed9-ec20b6fc05a5"
            }
        },
        {
            "cell_type": "markdown",
            "source": [
                "In preparation for deploying the model, you need to save the model and scaler to a new `models` directory that will be uploaded to the deployment image later on."
            ],
            "metadata": {
                "application/vnd.databricks.v1+cell": {
                    "inputWidgets": {},
                    "nuid": "9e6eacf4-f950-4d32-bddb-03f570775233",
                    "showTitle": false,
                    "title": ""
                },
                "extensions": {
                    "azuredatastudio": {
                        "views": []
                    }
                },
                "azdata_cell_guid": "b9c64d4b-ee7e-4ae3-a2ad-177b58a690e6"
            }
        },
        {
            "cell_type": "code",
            "source": [
                "import uuid\n",
                "import os\n",
                "\n",
                "# Create a temporary folder to store locally relevant content for this notebook\n",
                "tempFolderName = '/FileStore/mcw_predmaint_{0}'.format(uuid.uuid4())\n",
                "dbutils.fs.mkdirs(tempFolderName)\n",
                "print('Content files will be saved to {0}'.format(tempFolderName))"
            ],
            "metadata": {
                "application/vnd.databricks.v1+cell": {
                    "inputWidgets": {},
                    "nuid": "04a7389a-802b-46ab-8686-3c3501950fcb",
                    "showTitle": false,
                    "title": ""
                },
                "extensions": {
                    "azuredatastudio": {
                        "views": []
                    }
                },
                "azdata_cell_guid": "72087f50-b847-40f9-8509-61e9832eef1c"
            },
            "outputs": [
                {
                    "output_type": "display_data",
                    "data": {
                        "text/html": "<style scoped>\n  .ansiout {\n    display: block;\n    unicode-bidi: embed;\n    white-space: pre-wrap;\n    word-wrap: break-word;\n    word-break: break-all;\n    font-family: \"Source Code Pro\", \"Menlo\", monospace;;\n    font-size: 13px;\n    color: #555;\n    margin-left: 4px;\n    line-height: 19px;\n  }\n</style>"
                    },
                    "metadata": {
                        "application/vnd.databricks.v1+output": {
                            "arguments": {},
                            "data": "",
                            "errorSummary": "",
                            "type": "ipynbError"
                        }
                    }
                }
            ],
            "execution_count": null
        },
        {
            "cell_type": "code",
            "source": [
                "import os\n",
                "models_dir = tempFolderName + \"/models/\"\n",
                "if not os.path.exists(models_dir):\n",
                "    os.makedirs(models_dir)"
            ],
            "metadata": {
                "application/vnd.databricks.v1+cell": {
                    "inputWidgets": {},
                    "nuid": "a297f7de-8caf-4f66-81ab-f8e1b9afd37c",
                    "showTitle": false,
                    "title": ""
                },
                "extensions": {
                    "azuredatastudio": {
                        "views": []
                    }
                },
                "azdata_cell_guid": "a3231d0f-b8e3-4a72-bfdd-868f9b6bae94"
            },
            "outputs": [
                {
                    "output_type": "display_data",
                    "data": {
                        "text/html": "<style scoped>\n  .ansiout {\n    display: block;\n    unicode-bidi: embed;\n    white-space: pre-wrap;\n    word-wrap: break-word;\n    word-break: break-all;\n    font-family: \"Source Code Pro\", \"Menlo\", monospace;;\n    font-size: 13px;\n    color: #555;\n    margin-left: 4px;\n    line-height: 19px;\n  }\n</style>"
                    },
                    "metadata": {
                        "application/vnd.databricks.v1+output": {
                            "arguments": {},
                            "data": "",
                            "errorSummary": "",
                            "type": "ipynbError"
                        }
                    }
                }
            ],
            "execution_count": null
        },
        {
            "cell_type": "code",
            "source": [
                "model = load_model('anomaly_detection_full_model.h5')\n",
                "model.save(models_dir + 'anomaly_score.h5')\n",
                "scaler = joblib.load('scaler.pkl')\n",
                "joblib.dump(scaler, models_dir + 'scaler.pkl')"
            ],
            "metadata": {
                "application/vnd.databricks.v1+cell": {
                    "inputWidgets": {},
                    "nuid": "12565d00-1254-4f4f-8e38-4e6c1ec52910",
                    "showTitle": false,
                    "title": ""
                },
                "extensions": {
                    "azuredatastudio": {
                        "views": []
                    }
                },
                "azdata_cell_guid": "7a604d4d-b64d-41a6-bbbb-1db94896578d"
            },
            "outputs": [
                {
                    "output_type": "display_data",
                    "data": {
                        "text/html": "<style scoped>\n  .ansiout {\n    display: block;\n    unicode-bidi: embed;\n    white-space: pre-wrap;\n    word-wrap: break-word;\n    word-break: break-all;\n    font-family: \"Source Code Pro\", \"Menlo\", monospace;;\n    font-size: 13px;\n    color: #555;\n    margin-left: 4px;\n    line-height: 19px;\n  }\n</style>"
                    },
                    "metadata": {
                        "application/vnd.databricks.v1+output": {
                            "arguments": {},
                            "data": "",
                            "errorSummary": "",
                            "type": "ipynbError"
                        }
                    }
                }
            ],
            "execution_count": null
        },
        {
            "cell_type": "markdown",
            "source": [
                "## Test loading the model"
            ],
            "metadata": {
                "application/vnd.databricks.v1+cell": {
                    "inputWidgets": {},
                    "nuid": "bc4ba986-9602-464d-88da-7fc3803f2c70",
                    "showTitle": false,
                    "title": ""
                },
                "extensions": {
                    "azuredatastudio": {
                        "views": []
                    }
                },
                "azdata_cell_guid": "a970c589-9865-4521-bbf4-006e98f38bbd"
            }
        },
        {
            "cell_type": "markdown",
            "source": [
                "All the examples above performed batched predictions. Let's take a look now to an approach for real time scoring. We start with the assumption that we have a previously trained model and scaler.\n",
                "\n",
                "We start by loading the models from their persisted state.\n",
                "\n",
                "Next, we scale the values of one set of sensor readings and run the scaled values through the anomaly detection model.\n",
                "\n",
                "We calculate the MAE value (between the predicted values array and the original readings array).\n",
                "\n",
                "Finally, we compare the MAE value with the threshold to decide whether we have a normal or abnormal condition.\n",
                "The example below detects a normal condition."
            ],
            "metadata": {
                "application/vnd.databricks.v1+cell": {
                    "inputWidgets": {},
                    "nuid": "d4b7d501-4d46-493c-9dcb-7e8bd51f21a2",
                    "showTitle": false,
                    "title": ""
                },
                "extensions": {
                    "azuredatastudio": {
                        "views": []
                    }
                },
                "azdata_cell_guid": "de1cf06c-3f20-4281-9641-7f23e22e2680"
            }
        },
        {
            "cell_type": "code",
            "source": [
                "scaler = joblib.load(models_dir + 'scaler.pkl')\n",
                "model = load_model(models_dir + 'anomaly_score.h5')\n",
                "\n",
                "sensor_readings = np.array([70, 200, 60.6, 0, 1448.17])\n",
                "scaled_sensor_readings = scaler.transform(sensor_readings.reshape(1,-1))\n",
                "\n",
                "pred_sensor_readings = model.predict(scaled_sensor_readings)\n",
                "score = np.mean(np.abs(scaled_sensor_readings - pred_sensor_readings[0]))\n",
                "\n",
                "if score > 0.01:\n",
                "  print('WARNING! Abnormal conditions detected')\n",
                "else:\n",
                "  print('Everything is ok')"
            ],
            "metadata": {
                "application/vnd.databricks.v1+cell": {
                    "inputWidgets": {},
                    "nuid": "cdd16b4b-a2c7-439a-a68b-5e56446c6f6b",
                    "showTitle": false,
                    "title": ""
                },
                "extensions": {
                    "azuredatastudio": {
                        "views": []
                    }
                },
                "azdata_cell_guid": "5ecf43f6-31d8-4626-916d-3da928f41bd5"
            },
            "outputs": [
                {
                    "output_type": "display_data",
                    "data": {
                        "text/html": "<style scoped>\n  .ansiout {\n    display: block;\n    unicode-bidi: embed;\n    white-space: pre-wrap;\n    word-wrap: break-word;\n    word-break: break-all;\n    font-family: \"Source Code Pro\", \"Menlo\", monospace;;\n    font-size: 13px;\n    color: #555;\n    margin-left: 4px;\n    line-height: 19px;\n  }\n</style>"
                    },
                    "metadata": {
                        "application/vnd.databricks.v1+output": {
                            "arguments": {},
                            "data": "",
                            "errorSummary": "",
                            "type": "ipynbError"
                        }
                    }
                }
            ],
            "execution_count": null
        },
        {
            "cell_type": "markdown",
            "source": [
                "The following example shows how an abnormal condition is detected."
            ],
            "metadata": {
                "application/vnd.databricks.v1+cell": {
                    "inputWidgets": {},
                    "nuid": "80c918fb-bc05-47d6-875a-99d716b3c372",
                    "showTitle": false,
                    "title": ""
                },
                "extensions": {
                    "azuredatastudio": {
                        "views": []
                    }
                },
                "azdata_cell_guid": "2c433d54-0368-40e9-8f6a-fff311da75a5"
            }
        },
        {
            "cell_type": "code",
            "source": [
                "sensor_readings = np.array([14.23, 41, 14.4, 318.50, 601.95])\n",
                "scaled_sensor_readings = scaler.transform(sensor_readings.reshape(1,-1))\n",
                "\n",
                "pred_sensor_readings = model.predict(scaled_sensor_readings)\n",
                "score = np.mean(np.abs(scaled_sensor_readings - pred_sensor_readings[0]))\n",
                "\n",
                "if score > 0.01:\n",
                "  print('WARNING! Abnormal conditions detected')\n",
                "else:\n",
                "  print('Everything is ok')"
            ],
            "metadata": {
                "application/vnd.databricks.v1+cell": {
                    "inputWidgets": {},
                    "nuid": "794d61fa-09ce-4c12-864f-ca3dbd3801e0",
                    "showTitle": false,
                    "title": ""
                },
                "extensions": {
                    "azuredatastudio": {
                        "views": []
                    }
                },
                "azdata_cell_guid": "b5526296-65d3-47b2-a385-b0cdedb98bd3"
            },
            "outputs": [
                {
                    "output_type": "display_data",
                    "data": {
                        "text/html": "<style scoped>\n  .ansiout {\n    display: block;\n    unicode-bidi: embed;\n    white-space: pre-wrap;\n    word-wrap: break-word;\n    word-break: break-all;\n    font-family: \"Source Code Pro\", \"Menlo\", monospace;;\n    font-size: 13px;\n    color: #555;\n    margin-left: 4px;\n    line-height: 19px;\n  }\n</style>"
                    },
                    "metadata": {
                        "application/vnd.databricks.v1+output": {
                            "arguments": {},
                            "data": "",
                            "errorSummary": "",
                            "type": "ipynbError"
                        }
                    }
                }
            ],
            "execution_count": null
        },
        {
            "cell_type": "markdown",
            "source": [
                "## Deploy the model"
            ],
            "metadata": {
                "application/vnd.databricks.v1+cell": {
                    "inputWidgets": {},
                    "nuid": "3537577d-6541-4aff-9343-db0440c5f94c",
                    "showTitle": false,
                    "title": ""
                },
                "extensions": {
                    "azuredatastudio": {
                        "views": []
                    }
                },
                "azdata_cell_guid": "69b539a3-ed58-4935-8c04-8ac044b50352"
            }
        },
        {
            "cell_type": "markdown",
            "source": [
                "Now you will use the Azure Machine Learning service SDK to programmatically register your model and create a container image for the web service that uses it and deploy that image on to an Azure Container Instance.\n",
                "\n",
                "Run the following cells to create some helper functions that you will use for deployment."
            ],
            "metadata": {
                "application/vnd.databricks.v1+cell": {
                    "inputWidgets": {},
                    "nuid": "46a7aaa3-6028-4866-9193-88f23d52a084",
                    "showTitle": false,
                    "title": ""
                },
                "extensions": {
                    "azuredatastudio": {
                        "views": []
                    }
                },
                "azdata_cell_guid": "905cefb3-4965-4853-9b36-ad2658133533"
            }
        },
        {
            "cell_type": "code",
            "source": [
                "import azureml\n",
                "from azureml.core import Workspace\n",
                "from azureml.core.model import Model as AmlModel"
            ],
            "metadata": {
                "application/vnd.databricks.v1+cell": {
                    "inputWidgets": {},
                    "nuid": "5deb2b3c-f58e-4411-9ed1-caada8859ce3",
                    "showTitle": false,
                    "title": ""
                },
                "extensions": {
                    "azuredatastudio": {
                        "views": []
                    }
                },
                "azdata_cell_guid": "042ff977-6c57-4383-977a-ee5c6037c155"
            },
            "outputs": [
                {
                    "output_type": "display_data",
                    "data": {
                        "text/html": "<style scoped>\n  .ansiout {\n    display: block;\n    unicode-bidi: embed;\n    white-space: pre-wrap;\n    word-wrap: break-word;\n    word-break: break-all;\n    font-family: \"Source Code Pro\", \"Menlo\", monospace;;\n    font-size: 13px;\n    color: #555;\n    margin-left: 4px;\n    line-height: 19px;\n  }\n</style>"
                    },
                    "metadata": {
                        "application/vnd.databricks.v1+output": {
                            "arguments": {},
                            "data": "",
                            "errorSummary": "",
                            "type": "ipynbError"
                        }
                    }
                }
            ],
            "execution_count": null
        },
        {
            "cell_type": "code",
            "source": [
                "def getOrCreateWorkspace(subscription_id, resource_group, workspace_name, workspace_region):\n",
                "    # By using the exist_ok param, if the worskpace already exists we get a reference to the existing workspace instead of an error\n",
                "    ws = Workspace.create(\n",
                "        name = workspace_name,\n",
                "        subscription_id = subscription_id,\n",
                "        resource_group = resource_group, \n",
                "        location = workspace_region,\n",
                "        exist_ok = True)\n",
                "    return ws"
            ],
            "metadata": {
                "application/vnd.databricks.v1+cell": {
                    "inputWidgets": {},
                    "nuid": "ad601442-b4fd-4f6c-a5e3-c9eac039ddb6",
                    "showTitle": false,
                    "title": ""
                },
                "extensions": {
                    "azuredatastudio": {
                        "views": []
                    }
                },
                "azdata_cell_guid": "06e73b56-b3ff-476d-b413-51dd2b1e3d00"
            },
            "outputs": [
                {
                    "output_type": "display_data",
                    "data": {
                        "text/html": "<style scoped>\n  .ansiout {\n    display: block;\n    unicode-bidi: embed;\n    white-space: pre-wrap;\n    word-wrap: break-word;\n    word-break: break-all;\n    font-family: \"Source Code Pro\", \"Menlo\", monospace;;\n    font-size: 13px;\n    color: #555;\n    margin-left: 4px;\n    line-height: 19px;\n  }\n</style>"
                    },
                    "metadata": {
                        "application/vnd.databricks.v1+output": {
                            "arguments": {},
                            "data": "",
                            "errorSummary": "",
                            "type": "ipynbError"
                        }
                    }
                }
            ],
            "execution_count": null
        },
        {
            "cell_type": "code",
            "source": [
                "def deployModelAsWebService(ws, model_paths, model_names, \n",
                "                scoring_script_filename=\"score.py\", \n",
                "                conda_packages=['scikit-learn','numpy','joblib','pandas','keras','h5py==2.10.0'],\n",
                "                conda_file=\"dependencies.yml\", runtime=\"python\",\n",
                "                cpu_cores=1, memory_gb=1, tags={'name':'scoring'},\n",
                "                description='Scoring web service.',\n",
                "                service_name = \"scoringservice\"\n",
                "               ):\n",
                "\n",
                "    print(\"Registering and uploading models...\")\n",
                "    registered_models = []\n",
                "    \n",
                "    for index, path in enumerate(model_paths):\n",
                "      \n",
                "      print('Registering model {} with name {}'.format(path, model_names[index]))\n",
                "    \n",
                "      registered_models.append(AmlModel.register(model_path=path, \n",
                "                                      model_name=model_names[index], \n",
                "                                      workspace=ws))\n",
                "    \n",
                "    print('Successfully registered {} models.'.format(len(registered_models)))\n",
                "\n",
                "    # create a Conda dependencies environment file\n",
                "    print(\"Creating conda dependencies file locally...\")\n",
                "    from azureml.core.conda_dependencies import CondaDependencies \n",
                "    mycondaenv = CondaDependencies.create(conda_packages=conda_packages)\n",
                "    mycondaenv.add_pip_package('tensorflow==2.2.1')\n",
                "    \n",
                "    #dbutils.fs.put(tempFolderName + \"/\" + conda_file, mycondaenv.serialize_to_string(), overwrite=True)\n",
                "    with open(conda_file,\"w\") as f:\n",
                "        f.write(mycondaenv.serialize_to_string())\n",
                "    \n",
                "    # create inference configuration\n",
                "    print(\"Creating inference configuration...\")\n",
                "    from azureml.core.model import InferenceConfig\n",
                "    inference_config = InferenceConfig(runtime=runtime, \n",
                "                                       entry_script=scoring_script_filename,\n",
                "                                       conda_file=conda_file)\n",
                "    \n",
                "    # create ACI configuration\n",
                "    print(\"Creating ACI configuration...\")\n",
                "    from azureml.core.webservice import AciWebservice, Webservice\n",
                "    aci_config = AciWebservice.deploy_configuration(\n",
                "        cpu_cores = cpu_cores, \n",
                "        memory_gb = memory_gb, \n",
                "        tags = tags, \n",
                "        description = description)\n",
                "\n",
                "    # deploy the webservice to ACI\n",
                "    print(\"Deploying webservice to ACI...\")\n",
                "    webservice = AmlModel.deploy(workspace=ws,\n",
                "                              name=service_name,\n",
                "                              models=registered_models,\n",
                "                              inference_config=inference_config,\n",
                "                              deployment_config=aci_config)\n",
                "    webservice.wait_for_deployment(show_output=True)\n",
                "    \n",
                "    return webservice"
            ],
            "metadata": {
                "application/vnd.databricks.v1+cell": {
                    "inputWidgets": {},
                    "nuid": "8d52ae64-a28e-4ad3-9587-d6a7aa12bb44",
                    "showTitle": false,
                    "title": ""
                },
                "extensions": {
                    "azuredatastudio": {
                        "views": []
                    }
                },
                "azdata_cell_guid": "e2791e38-d767-4895-8d21-d33046e3ff86"
            },
            "outputs": [
                {
                    "output_type": "display_data",
                    "data": {
                        "text/html": "<style scoped>\n  .ansiout {\n    display: block;\n    unicode-bidi: embed;\n    white-space: pre-wrap;\n    word-wrap: break-word;\n    word-break: break-all;\n    font-family: \"Source Code Pro\", \"Menlo\", monospace;;\n    font-size: 13px;\n    color: #555;\n    margin-left: 4px;\n    line-height: 19px;\n  }\n</style>"
                    },
                    "metadata": {
                        "application/vnd.databricks.v1+output": {
                            "arguments": {},
                            "data": "",
                            "errorSummary": "",
                            "type": "ipynbError"
                        }
                    }
                }
            ],
            "execution_count": null
        },
        {
            "cell_type": "markdown",
            "source": [
                "Your web service which knows how to load the model and use it for scoring needs to be saved out to a file for the Azure Machine Learning service SDK to deploy it. Run the following cell to create this file."
            ],
            "metadata": {
                "application/vnd.databricks.v1+cell": {
                    "inputWidgets": {},
                    "nuid": "f0db8357-8a8f-4ebb-9fb0-92ff30b9ab90",
                    "showTitle": false,
                    "title": ""
                },
                "extensions": {
                    "azuredatastudio": {
                        "views": []
                    }
                },
                "azdata_cell_guid": "c3b01d97-dcb9-4a8a-989a-3f236b2ff7a2"
            }
        },
        {
            "cell_type": "code",
            "source": [
                "# write out the file scoring-service.py\n",
                "scoring_service = \"\"\"\n",
                "import os\n",
                "import numpy as np\n",
                "import pandas as pd\n",
                "import tensorflow.keras\n",
                "import joblib\n",
                "from tensorflow.keras.models import load_model\n",
                "import h5py\n",
                "\n",
                "from azureml.core.model import Model as AmlModel\n",
                "\n",
                "def init():\n",
                "  global model\n",
                "  global scaler\n",
                "  global init_error\n",
                "    \n",
                "  try:\n",
                "    \n",
                "    init_error = None\n",
                "  \n",
                "    scaler_file_path = AmlModel.get_model_path('anomaly-detection-scaler')\n",
                "    model_file_path = AmlModel.get_model_path('anomaly-detection-model')\n",
                "\n",
                "    print('Loading scaler from:', scaler_file_path)\n",
                "    scaler = joblib.load(scaler_file_path)\n",
                "\n",
                "    print('Loading model from:', model_file_path)\n",
                "    model = load_model(model_file_path)\n",
                "\n",
                "  except Exception as e:\n",
                "    init_error = e\n",
                "    print(e)\n",
                "        \n",
                "# note you can pass in multiple rows for scoring\n",
                "def run(raw_data):\n",
                "\n",
                "  if init_error is not None:\n",
                "    return 'Init error: {}'.format(str(init_error))\n",
                "\n",
                "  try:\n",
                "    print(\"Received input:\", raw_data)\n",
                "    \n",
                "    input_df = pd.read_json(raw_data, orient='values')\n",
                "    \n",
                "    sensor_readings = np.array(input_df)\n",
                "    scaled_sensor_readings = scaler.transform(sensor_readings.reshape(1,-1))\n",
                "\n",
                "    pred_sensor_readings = model.predict(scaled_sensor_readings)\n",
                "    score = np.mean(np.abs(scaled_sensor_readings - pred_sensor_readings[0]))\n",
                "\n",
                "    if score > 0.01:\n",
                "      print('WARNING! Abnormal conditions detected')\n",
                "      return 1\n",
                "    else:\n",
                "      print('Everything is ok')\n",
                "      return 0\n",
                "\n",
                "  except Exception as e:\n",
                "    error = str(e)\n",
                "    return error\n",
                "\"\"\"\n",
                "\n",
                "with open(tempFolderName + \"/\" + \"score.py\", \"w\") as file:\n",
                "    file.write(scoring_service)"
            ],
            "metadata": {
                "application/vnd.databricks.v1+cell": {
                    "inputWidgets": {},
                    "nuid": "2d18bf15-4fc2-4e22-964c-927ad523bb51",
                    "showTitle": false,
                    "title": ""
                },
                "extensions": {
                    "azuredatastudio": {
                        "views": []
                    }
                },
                "azdata_cell_guid": "f3ce5852-3cc8-4693-b79e-a8c44466656e"
            },
            "outputs": [
                {
                    "output_type": "display_data",
                    "data": {
                        "text/html": "<style scoped>\n  .ansiout {\n    display: block;\n    unicode-bidi: embed;\n    white-space: pre-wrap;\n    word-wrap: break-word;\n    word-break: break-all;\n    font-family: \"Source Code Pro\", \"Menlo\", monospace;;\n    font-size: 13px;\n    color: #555;\n    margin-left: 4px;\n    line-height: 19px;\n  }\n</style>"
                    },
                    "metadata": {
                        "application/vnd.databricks.v1+output": {
                            "arguments": {},
                            "data": "",
                            "errorSummary": "",
                            "type": "ipynbError"
                        }
                    }
                }
            ],
            "execution_count": null
        },
        {
            "cell_type": "markdown",
            "source": [
                "Next, create your Workspace (or retrieve the existing one if it already exists) and deploy the model.\n",
                "\n",
                "Please note that executing the next few cells can take between **7** and **10** minutes."
            ],
            "metadata": {
                "application/vnd.databricks.v1+cell": {
                    "inputWidgets": {},
                    "nuid": "0cf9fb8b-47e0-4b4b-b24f-44c6201b6bec",
                    "showTitle": false,
                    "title": ""
                },
                "extensions": {
                    "azuredatastudio": {
                        "views": []
                    }
                },
                "azdata_cell_guid": "0eb4af3a-7b63-42e8-b32c-b6138fd4413c"
            }
        },
        {
            "cell_type": "markdown",
            "source": [
                "## Configure access to the Azure Machine Learning resources\n",
                "To begin, you will need to provide the following information about your Azure Subscription.\n",
                "\n",
                "**If you are using your own Azure subscription, please provide names for subscription_id, resource_group, workspace_name and workspace_region to use.** Note that the workspace needs to be of type [Machine Learning Workspace](https://docs.microsoft.com/en-us/azure/machine-learning/service/setup-create-workspace).\n",
                "\n",
                "In the following cell, be sure to set the values for `subscription_id`, `resource_group`, `workspace_name` and `workspace_region` as directed by the comments (*these values can be acquired from the Azure Portal*).\n",
                "\n",
                "To get these values, do the following:\n",
                "1. Navigate to the Azure Portal and login with your credentials.\n",
                "2. From the left-hand menu, under Favorites, select `Resource Groups`.\n",
                "3. In the list, select the resource group used for the lab.\n",
                "4. Open your Machine Learning Workspace.\n",
                "5. From the Overview tab, capture the desired values."
            ],
            "metadata": {
                "application/vnd.databricks.v1+cell": {
                    "inputWidgets": {},
                    "nuid": "4c0c518b-1f6e-4205-aeed-237a199c3529",
                    "showTitle": false,
                    "title": ""
                },
                "extensions": {
                    "azuredatastudio": {
                        "views": []
                    }
                },
                "azdata_cell_guid": "7f034a9e-b8b2-4f98-8edf-e78ca8301d93"
            }
        },
        {
            "cell_type": "code",
            "source": [
                "#Provide the Subscription ID of your existing Azure subscription\n",
                "subscription_id = \"\"\n",
                "\n",
                "#Provide values for the existing Resource Group \n",
                "resource_group = \"\"  \n",
                "\n",
                "#Provide the Workspace Name and Azure Region of the Azure Machine Learning Workspace\n",
                "workspace_name = \"\"\n",
                "workspace_region = \"eastus\""
            ],
            "metadata": {
                "application/vnd.databricks.v1+cell": {
                    "inputWidgets": {},
                    "nuid": "172ac324-1715-462a-ab89-04f5c527a30a",
                    "showTitle": false,
                    "title": ""
                },
                "extensions": {
                    "azuredatastudio": {
                        "views": []
                    }
                },
                "azdata_cell_guid": "264bffc3-63e9-4257-be4d-e3ecb2796025"
            },
            "outputs": [
                {
                    "output_type": "display_data",
                    "data": {
                        "text/html": "<style scoped>\n  .ansiout {\n    display: block;\n    unicode-bidi: embed;\n    white-space: pre-wrap;\n    word-wrap: break-word;\n    word-break: break-all;\n    font-family: \"Source Code Pro\", \"Menlo\", monospace;;\n    font-size: 13px;\n    color: #555;\n    margin-left: 4px;\n    line-height: 19px;\n  }\n</style>"
                    },
                    "metadata": {
                        "application/vnd.databricks.v1+output": {
                            "arguments": {},
                            "data": "",
                            "errorSummary": "",
                            "type": "ipynbError"
                        }
                    }
                }
            ],
            "execution_count": null
        },
        {
            "cell_type": "markdown",
            "source": [
                "Run the following cells to connect to your **Azure Machine Learning Workspace** If the workspace does not already exist, it will be created. Otherwise the code below will connect to the existing workspace without creating a new one.\n",
                "\n",
                "**Important Note**: You will be prompted to login in the text that is output below the cell. Be sure to navigate to the URL displayed and enter the code that is provided. Once you have entered the code, return to this notebook and wait for the output to read `Workspace configuration succeeded`."
            ],
            "metadata": {
                "application/vnd.databricks.v1+cell": {
                    "inputWidgets": {},
                    "nuid": "26a787c7-3354-4362-894d-74021e5fedfb",
                    "showTitle": false,
                    "title": ""
                },
                "extensions": {
                    "azuredatastudio": {
                        "views": []
                    }
                },
                "azdata_cell_guid": "3a9304a3-1e8b-4b86-a4b8-4514e0301408"
            }
        },
        {
            "cell_type": "code",
            "source": [
                "ws =  getOrCreateWorkspace(subscription_id, resource_group, \n",
                "                   workspace_name, workspace_region)"
            ],
            "metadata": {
                "application/vnd.databricks.v1+cell": {
                    "inputWidgets": {},
                    "nuid": "e81ce3da-ad9e-43a4-bb87-03debbae6b6d",
                    "showTitle": false,
                    "title": ""
                },
                "extensions": {
                    "azuredatastudio": {
                        "views": []
                    }
                },
                "azdata_cell_guid": "39852936-19ad-4fba-86f3-73c0e90b9ede"
            },
            "outputs": [
                {
                    "output_type": "display_data",
                    "data": {
                        "text/html": "<style scoped>\n  .ansiout {\n    display: block;\n    unicode-bidi: embed;\n    white-space: pre-wrap;\n    word-wrap: break-word;\n    word-break: break-all;\n    font-family: \"Source Code Pro\", \"Menlo\", monospace;;\n    font-size: 13px;\n    color: #555;\n    margin-left: 4px;\n    line-height: 19px;\n  }\n</style>"
                    },
                    "metadata": {
                        "application/vnd.databricks.v1+output": {
                            "arguments": {},
                            "data": "",
                            "errorSummary": "",
                            "type": "ipynbError"
                        }
                    }
                }
            ],
            "execution_count": null
        },
        {
            "cell_type": "code",
            "source": [
                "# It is important to change the current working directory so that your generated scoring-service.py is at the root of it. \n",
                "# This is required by the Azure Machine Learning SDK\n",
                "os.chdir(tempFolderName)\n",
                "os.getcwd()"
            ],
            "metadata": {
                "application/vnd.databricks.v1+cell": {
                    "inputWidgets": {},
                    "nuid": "b2ba7582-f598-4232-a7c4-12f14a36c1d3",
                    "showTitle": false,
                    "title": ""
                },
                "extensions": {
                    "azuredatastudio": {
                        "views": []
                    }
                },
                "azdata_cell_guid": "6db760fb-4b33-4cbb-941b-e538c026d6db"
            },
            "outputs": [
                {
                    "output_type": "display_data",
                    "data": {
                        "text/html": "<style scoped>\n  .ansiout {\n    display: block;\n    unicode-bidi: embed;\n    white-space: pre-wrap;\n    word-wrap: break-word;\n    word-break: break-all;\n    font-family: \"Source Code Pro\", \"Menlo\", monospace;;\n    font-size: 13px;\n    color: #555;\n    margin-left: 4px;\n    line-height: 19px;\n  }\n</style>"
                    },
                    "metadata": {
                        "application/vnd.databricks.v1+output": {
                            "arguments": {},
                            "data": "",
                            "errorSummary": "",
                            "type": "ipynbError"
                        }
                    }
                }
            ],
            "execution_count": null
        },
        {
            "cell_type": "code",
            "source": [
                "webservice = deployModelAsWebService(ws, \n",
                "                                     model_paths=['models/anomaly_score.h5', 'models/scaler.pkl'], \n",
                "                                     model_names=['anomaly-detection-model', 'anomaly-detection-scaler'])\n",
                "print(webservice.state)"
            ],
            "metadata": {
                "application/vnd.databricks.v1+cell": {
                    "inputWidgets": {},
                    "nuid": "4a48c2c1-05d5-4af6-8015-e5f7d2bbc53b",
                    "showTitle": false,
                    "title": ""
                },
                "extensions": {
                    "azuredatastudio": {
                        "views": []
                    }
                },
                "azdata_cell_guid": "1deded9c-d9ed-4758-be7a-7d5e5b6adb80"
            },
            "outputs": [
                {
                    "output_type": "display_data",
                    "data": {
                        "text/html": "<style scoped>\n  .ansiout {\n    display: block;\n    unicode-bidi: embed;\n    white-space: pre-wrap;\n    word-wrap: break-word;\n    word-break: break-all;\n    font-family: \"Source Code Pro\", \"Menlo\", monospace;;\n    font-size: 13px;\n    color: #555;\n    margin-left: 4px;\n    line-height: 19px;\n  }\n</style>"
                    },
                    "metadata": {
                        "application/vnd.databricks.v1+output": {
                            "arguments": {},
                            "data": "",
                            "errorSummary": "",
                            "type": "ipynbError"
                        }
                    }
                }
            ],
            "execution_count": null
        },
        {
            "cell_type": "code",
            "source": [
                "result = webservice.run('[[14.23, 41, 14.4, 318.50, 601.95]]')\n",
                "result\n",
                "# result of 0 = no anomaly detected\n",
                "# result of 1 = anomaly detected"
            ],
            "metadata": {
                "application/vnd.databricks.v1+cell": {
                    "inputWidgets": {},
                    "nuid": "d5a03890-10d1-4cf3-a920-b4f3e977a033",
                    "showTitle": false,
                    "title": ""
                },
                "extensions": {
                    "azuredatastudio": {
                        "views": []
                    }
                },
                "azdata_cell_guid": "839dee6e-06a1-4502-a6e7-ad4d2a813c4f"
            },
            "outputs": [
                {
                    "output_type": "display_data",
                    "data": {
                        "text/html": "<style scoped>\n  .ansiout {\n    display: block;\n    unicode-bidi: embed;\n    white-space: pre-wrap;\n    word-wrap: break-word;\n    word-break: break-all;\n    font-family: \"Source Code Pro\", \"Menlo\", monospace;;\n    font-size: 13px;\n    color: #555;\n    margin-left: 4px;\n    line-height: 19px;\n  }\n</style>"
                    },
                    "metadata": {
                        "application/vnd.databricks.v1+output": {
                            "arguments": {},
                            "data": "",
                            "errorSummary": "",
                            "type": "ipynbError"
                        }
                    }
                }
            ],
            "execution_count": null
        },
        {
            "cell_type": "markdown",
            "source": [
                "## Copy the deployed web service URL\n",
                "\n",
                "Run the cell below to retrieve the web service URL. Copy the value in the cell's output after running and use it to configure your Azure Function App."
            ],
            "metadata": {
                "application/vnd.databricks.v1+cell": {
                    "inputWidgets": {},
                    "nuid": "9d412646-fde0-454f-93e8-1b62b759d73b",
                    "showTitle": false,
                    "title": ""
                },
                "extensions": {
                    "azuredatastudio": {
                        "views": []
                    }
                },
                "azdata_cell_guid": "2970a9ee-79d5-410a-9f66-ac5faebdea49"
            }
        },
        {
            "cell_type": "code",
            "source": [
                "print(webservice.scoring_uri)"
            ],
            "metadata": {
                "application/vnd.databricks.v1+cell": {
                    "inputWidgets": {},
                    "nuid": "f78e98d5-95e1-4e63-8c89-feb8553c8d63",
                    "showTitle": false,
                    "title": ""
                },
                "extensions": {
                    "azuredatastudio": {
                        "views": []
                    }
                },
                "azdata_cell_guid": "dd1f1ee6-3056-42c8-acb3-c6bb712c494c"
            },
            "outputs": [
                {
                    "output_type": "display_data",
                    "data": {
                        "text/html": "<style scoped>\n  .ansiout {\n    display: block;\n    unicode-bidi: embed;\n    white-space: pre-wrap;\n    word-wrap: break-word;\n    word-break: break-all;\n    font-family: \"Source Code Pro\", \"Menlo\", monospace;;\n    font-size: 13px;\n    color: #555;\n    margin-left: 4px;\n    line-height: 19px;\n  }\n</style>"
                    },
                    "metadata": {
                        "application/vnd.databricks.v1+output": {
                            "arguments": {},
                            "data": "",
                            "errorSummary": "",
                            "type": "ipynbError"
                        }
                    }
                }
            ],
            "execution_count": null
        }
    ]
}